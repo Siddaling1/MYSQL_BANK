{
 "cells": [
  {
   "cell_type": "code",
   "execution_count": 1,
   "id": "74e7994a",
   "metadata": {},
   "outputs": [],
   "source": [
    "import pandas as pd \n",
    "import numpy as np"
   ]
  },
  {
   "cell_type": "code",
   "execution_count": 2,
   "id": "f3ee731a",
   "metadata": {},
   "outputs": [
    {
     "data": {
      "text/html": [
       "<div>\n",
       "<style scoped>\n",
       "    .dataframe tbody tr th:only-of-type {\n",
       "        vertical-align: middle;\n",
       "    }\n",
       "\n",
       "    .dataframe tbody tr th {\n",
       "        vertical-align: top;\n",
       "    }\n",
       "\n",
       "    .dataframe thead th {\n",
       "        text-align: right;\n",
       "    }\n",
       "</style>\n",
       "<table border=\"1\" class=\"dataframe\">\n",
       "  <thead>\n",
       "    <tr style=\"text-align: right;\">\n",
       "      <th></th>\n",
       "      <th>Account No</th>\n",
       "      <th>DATE</th>\n",
       "      <th>TRANSACTION DETAILS</th>\n",
       "      <th>VALUE DATE</th>\n",
       "      <th>WITHDRAWAL AMT</th>\n",
       "      <th>DEPOSIT AMT</th>\n",
       "      <th>BALANCE AMT</th>\n",
       "    </tr>\n",
       "  </thead>\n",
       "  <tbody>\n",
       "    <tr>\n",
       "      <th>0</th>\n",
       "      <td>4.090000e+11</td>\n",
       "      <td>2017-06-29</td>\n",
       "      <td>TRF FROM  Indiaforensic SERVICES</td>\n",
       "      <td>2017-06-29</td>\n",
       "      <td>0</td>\n",
       "      <td>1000000</td>\n",
       "      <td>1000000</td>\n",
       "    </tr>\n",
       "    <tr>\n",
       "      <th>1</th>\n",
       "      <td>4.090000e+11</td>\n",
       "      <td>2017-07-05</td>\n",
       "      <td>TRF FROM  Indiaforensic SERVICES</td>\n",
       "      <td>2017-07-05</td>\n",
       "      <td>0</td>\n",
       "      <td>1000000</td>\n",
       "      <td>2000000</td>\n",
       "    </tr>\n",
       "    <tr>\n",
       "      <th>2</th>\n",
       "      <td>4.090000e+11</td>\n",
       "      <td>2017-07-18</td>\n",
       "      <td>FDRL/INTERNAL FUND TRANSFE</td>\n",
       "      <td>2017-07-18</td>\n",
       "      <td>0</td>\n",
       "      <td>500000</td>\n",
       "      <td>2500000</td>\n",
       "    </tr>\n",
       "    <tr>\n",
       "      <th>3</th>\n",
       "      <td>4.090000e+11</td>\n",
       "      <td>2017-08-01</td>\n",
       "      <td>TRF FRM  Indiaforensic SERVICES</td>\n",
       "      <td>2017-08-01</td>\n",
       "      <td>0</td>\n",
       "      <td>3000000</td>\n",
       "      <td>5500000</td>\n",
       "    </tr>\n",
       "    <tr>\n",
       "      <th>4</th>\n",
       "      <td>4.090000e+11</td>\n",
       "      <td>2017-08-16</td>\n",
       "      <td>FDRL/INTERNAL FUND TRANSFE</td>\n",
       "      <td>2017-08-16</td>\n",
       "      <td>0</td>\n",
       "      <td>500000</td>\n",
       "      <td>6000000</td>\n",
       "    </tr>\n",
       "    <tr>\n",
       "      <th>...</th>\n",
       "      <td>...</td>\n",
       "      <td>...</td>\n",
       "      <td>...</td>\n",
       "      <td>...</td>\n",
       "      <td>...</td>\n",
       "      <td>...</td>\n",
       "      <td>...</td>\n",
       "    </tr>\n",
       "    <tr>\n",
       "      <th>113697</th>\n",
       "      <td>4.090000e+11</td>\n",
       "      <td>2019-03-05</td>\n",
       "      <td>TRF TO 1196428  Indiaforensic SE</td>\n",
       "      <td>2019-03-05</td>\n",
       "      <td>117934</td>\n",
       "      <td>0</td>\n",
       "      <td>-1901902093</td>\n",
       "    </tr>\n",
       "    <tr>\n",
       "      <th>113698</th>\n",
       "      <td>4.090000e+11</td>\n",
       "      <td>2019-03-05</td>\n",
       "      <td>FDRL/INTERNAL FUND TRANSFE</td>\n",
       "      <td>2019-03-05</td>\n",
       "      <td>0</td>\n",
       "      <td>300000</td>\n",
       "      <td>-1901602093</td>\n",
       "    </tr>\n",
       "    <tr>\n",
       "      <th>113699</th>\n",
       "      <td>4.090000e+11</td>\n",
       "      <td>2019-03-05</td>\n",
       "      <td>FDRL/INTERNAL FUND TRANSFE</td>\n",
       "      <td>2019-03-05</td>\n",
       "      <td>0</td>\n",
       "      <td>300000</td>\n",
       "      <td>-1901302093</td>\n",
       "    </tr>\n",
       "    <tr>\n",
       "      <th>113700</th>\n",
       "      <td>4.090000e+11</td>\n",
       "      <td>2019-03-05</td>\n",
       "      <td>IMPS 05-03-20194C</td>\n",
       "      <td>2019-03-05</td>\n",
       "      <td>109869</td>\n",
       "      <td>0</td>\n",
       "      <td>-1901411961</td>\n",
       "    </tr>\n",
       "    <tr>\n",
       "      <th>113701</th>\n",
       "      <td>4.090000e+11</td>\n",
       "      <td>2019-03-05</td>\n",
       "      <td>Sweep Trf To: 40900036427</td>\n",
       "      <td>2019-03-05</td>\n",
       "      <td>5000</td>\n",
       "      <td>0</td>\n",
       "      <td>-1901416961</td>\n",
       "    </tr>\n",
       "  </tbody>\n",
       "</table>\n",
       "<p>113702 rows × 7 columns</p>\n",
       "</div>"
      ],
      "text/plain": [
       "          Account No        DATE               TRANSACTION DETAILS  \\\n",
       "0       4.090000e+11  2017-06-29  TRF FROM  Indiaforensic SERVICES   \n",
       "1       4.090000e+11  2017-07-05  TRF FROM  Indiaforensic SERVICES   \n",
       "2       4.090000e+11  2017-07-18        FDRL/INTERNAL FUND TRANSFE   \n",
       "3       4.090000e+11  2017-08-01   TRF FRM  Indiaforensic SERVICES   \n",
       "4       4.090000e+11  2017-08-16        FDRL/INTERNAL FUND TRANSFE   \n",
       "...              ...         ...                               ...   \n",
       "113697  4.090000e+11  2019-03-05  TRF TO 1196428  Indiaforensic SE   \n",
       "113698  4.090000e+11  2019-03-05        FDRL/INTERNAL FUND TRANSFE   \n",
       "113699  4.090000e+11  2019-03-05        FDRL/INTERNAL FUND TRANSFE   \n",
       "113700  4.090000e+11  2019-03-05                 IMPS 05-03-20194C   \n",
       "113701  4.090000e+11  2019-03-05         Sweep Trf To: 40900036427   \n",
       "\n",
       "        VALUE DATE  WITHDRAWAL AMT  DEPOSIT AMT  BALANCE AMT  \n",
       "0       2017-06-29               0      1000000      1000000  \n",
       "1       2017-07-05               0      1000000      2000000  \n",
       "2       2017-07-18               0       500000      2500000  \n",
       "3       2017-08-01               0      3000000      5500000  \n",
       "4       2017-08-16               0       500000      6000000  \n",
       "...            ...             ...          ...          ...  \n",
       "113697  2019-03-05          117934            0  -1901902093  \n",
       "113698  2019-03-05               0       300000  -1901602093  \n",
       "113699  2019-03-05               0       300000  -1901302093  \n",
       "113700  2019-03-05          109869            0  -1901411961  \n",
       "113701  2019-03-05            5000            0  -1901416961  \n",
       "\n",
       "[113702 rows x 7 columns]"
      ]
     },
     "execution_count": 2,
     "metadata": {},
     "output_type": "execute_result"
    }
   ],
   "source": [
    "df=pd.read_csv(r\"C:\\Data Analyst Project\\bank dataset.csv\")\n",
    "df"
   ]
  },
  {
   "cell_type": "code",
   "execution_count": 3,
   "id": "355f25c6",
   "metadata": {},
   "outputs": [],
   "source": [
    "import mysql.connector  \n",
    "\n",
    "conn = mysql.connector.connect(\n",
    "    host='localhost',\n",
    "    user='root',\n",
    "    password='2580',  \n",
    "    database='bank'\n",
    ")\n",
    "\n",
    "cursor = conn.cursor()\n"
   ]
  },
  {
   "cell_type": "code",
   "execution_count": 4,
   "id": "3371c478",
   "metadata": {},
   "outputs": [],
   "source": [
    "cursor.execute(\"\"\"\n",
    "CREATE TABLE IF NOT EXISTS bank(\n",
    "    Account_No VARCHAR(50),\n",
    "    TRANS_DATE DATE,\n",
    "    TRANSACTION_DETAILS VARCHAR(50),\n",
    "    VALUE_DATE DATE,\n",
    "    WITHDRAWAL_AMT INT,\n",
    "    DEPOSIT_AMT INT,\n",
    "    BALANCE_AMT INT\n",
    ")\n",
    "\"\"\")\n",
    "\n",
    "\n"
   ]
  },
  {
   "cell_type": "code",
   "execution_count": 5,
   "id": "21a558b3",
   "metadata": {},
   "outputs": [
    {
     "name": "stdout",
     "output_type": "stream",
     "text": [
      "['Account No', 'DATE', 'TRANSACTION DETAILS', 'VALUE DATE', 'WITHDRAWAL AMT', 'DEPOSIT AMT', 'BALANCE AMT']\n"
     ]
    }
   ],
   "source": [
    "print(df.columns.tolist())\n"
   ]
  },
  {
   "cell_type": "code",
   "execution_count": 6,
   "id": "dca2b7cc",
   "metadata": {},
   "outputs": [
    {
     "name": "stdout",
     "output_type": "stream",
     "text": [
      "['ACCOUNT_NO', 'DATE', 'TRANSACTION_DETAILS', 'VALUE_DATE', 'WITHDRAWAL_AMT', 'DEPOSIT_AMT', 'BALANCE_AMT']\n"
     ]
    }
   ],
   "source": [
    "df.columns = df.columns.str.strip()  # removes leading/trailing spaces\n",
    "df.columns = df.columns.str.replace(' ', '_')  # optional: replace spaces with underscore\n",
    "df.columns = df.columns.str.upper()  # optional: make all uppercase to match MySQL\n",
    "print(df.columns.tolist())\n"
   ]
  },
  {
   "cell_type": "code",
   "execution_count": 7,
   "id": "e225f77a",
   "metadata": {},
   "outputs": [
    {
     "name": "stderr",
     "output_type": "stream",
     "text": [
      "C:\\Users\\sidha\\AppData\\Local\\Temp\\ipykernel_7672\\419022649.py:1: UserWarning: Parsing dates in %Y-%m-%d format when dayfirst=True was specified. Pass `dayfirst=False` or specify a format to silence this warning.\n",
      "  df['DATE'] = pd.to_datetime(df['DATE'], dayfirst=True).dt.date\n",
      "C:\\Users\\sidha\\AppData\\Local\\Temp\\ipykernel_7672\\419022649.py:2: UserWarning: Parsing dates in %Y-%m-%d format when dayfirst=True was specified. Pass `dayfirst=False` or specify a format to silence this warning.\n",
      "  df['VALUE_DATE'] = pd.to_datetime(df['VALUE_DATE'], dayfirst=True).dt.date\n"
     ]
    }
   ],
   "source": [
    "df['DATE'] = pd.to_datetime(df['DATE'], dayfirst=True).dt.date\n",
    "df['VALUE_DATE'] = pd.to_datetime(df['VALUE_DATE'], dayfirst=True).dt.date\n"
   ]
  },
  {
   "cell_type": "code",
   "execution_count": 8,
   "id": "e69ca675",
   "metadata": {},
   "outputs": [],
   "source": [
    "df['TRANS_DATE'] = pd.to_datetime(df['DATE'], dayfirst=True).dt.date\n",
    "\n",
    "for i, row in df.iterrows():\n",
    "    sql = \"\"\"\n",
    "    INSERT INTO bank (Account_No, TRANS_DATE, TRANSACTION_DETAILS, VALUE_DATE, WITHDRAWAL_AMT, DEPOSIT_AMT, BALANCE_AMT)\n",
    "    VALUES (%s, %s, %s, %s, %s, %s, %s)\n",
    "    \"\"\"\n",
    "    cursor.execute(sql, (\n",
    "        row['ACCOUNT_NO'],\n",
    "        row['TRANS_DATE'],\n",
    "        row['TRANSACTION_DETAILS'],\n",
    "        row['VALUE_DATE'],\n",
    "        row['WITHDRAWAL_AMT'],\n",
    "        row['DEPOSIT_AMT'],\n",
    "        row['BALANCE_AMT']\n",
    "    ))\n",
    "\n",
    "conn.commit()\n",
    "conn.close()\n"
   ]
  }
 ],
 "metadata": {
  "kernelspec": {
   "display_name": "Python 3",
   "language": "python",
   "name": "python3"
  },
  "language_info": {
   "codemirror_mode": {
    "name": "ipython",
    "version": 3
   },
   "file_extension": ".py",
   "mimetype": "text/x-python",
   "name": "python",
   "nbconvert_exporter": "python",
   "pygments_lexer": "ipython3",
   "version": "3.14.0"
  }
 },
 "nbformat": 4,
 "nbformat_minor": 5
}
